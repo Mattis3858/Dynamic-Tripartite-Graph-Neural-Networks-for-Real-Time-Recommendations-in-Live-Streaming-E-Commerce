{
 "cells": [
  {
   "cell_type": "code",
   "execution_count": null,
   "id": "5dbd37bf",
   "metadata": {},
   "outputs": [
    {
     "name": "stdout",
     "output_type": "stream",
     "text": [
      "Requirement already satisfied: neo4j in c:\\users\\mattis\\desktop\\vscode\\thesis\\venv\\lib\\site-packages (5.28.1)\n",
      "Requirement already satisfied: pytz in c:\\users\\mattis\\desktop\\vscode\\thesis\\venv\\lib\\site-packages (from neo4j) (2025.2)\n",
      "Note: you may need to restart the kernel to use updated packages.\n"
     ]
    },
    {
     "name": "stderr",
     "output_type": "stream",
     "text": [
      "\n",
      "[notice] A new release of pip available: 22.3 -> 25.0.1\n",
      "[notice] To update, run: python.exe -m pip install --upgrade pip\n"
     ]
    }
   ],
   "source": [
    "pip install neo4j"
   ]
  },
  {
   "cell_type": "code",
   "execution_count": 9,
   "id": "d4a39ffe",
   "metadata": {},
   "outputs": [],
   "source": [
    "from neo4j import GraphDatabase"
   ]
  },
  {
   "cell_type": "code",
   "execution_count": 10,
   "id": "3e17d0e7",
   "metadata": {},
   "outputs": [],
   "source": [
    "# 設定連線到 Memgraph，本機默認：bolt://localhost:7687\n",
    "uri = \"bolt://localhost:7687\"\n",
    "# 如果沒有設定使用者驗證，可傳入空字串；如果有設定，請填入相應參數\n",
    "driver = GraphDatabase.driver(uri, auth=(\"\",\"\"))  "
   ]
  },
  {
   "cell_type": "code",
   "execution_count": 11,
   "id": "7cc1c76c",
   "metadata": {},
   "outputs": [
    {
     "name": "stdout",
     "output_type": "stream",
     "text": [
      "Nodes:\n",
      "<Node element_id='63' labels=frozenset({'User'}) properties={'id': 1, 'name': 'Alice'}>\n",
      "<Node element_id='64' labels=frozenset({'User'}) properties={'id': 2, 'name': 'Bob'}>\n",
      "<Node element_id='65' labels=frozenset({'User'}) properties={'id': 3, 'name': 'Charlie'}>\n",
      "<Node element_id='66' labels=frozenset({'User'}) properties={'id': 4, 'name': 'Diana'}>\n",
      "<Node element_id='67' labels=frozenset({'User'}) properties={'id': 5, 'name': 'Eve'}>\n",
      "<Node element_id='68' labels=frozenset({'Streamer'}) properties={'id': 1, 'name': 'Streamer A'}>\n",
      "<Node element_id='69' labels=frozenset({'Streamer'}) properties={'id': 2, 'name': 'Streamer B'}>\n",
      "<Node element_id='70' labels=frozenset({'Item'}) properties={'id': 1, 'name': 'Item 1'}>\n",
      "<Node element_id='71' labels=frozenset({'Item'}) properties={'id': 2, 'name': 'Item 2'}>\n",
      "<Node element_id='72' labels=frozenset({'Item'}) properties={'id': 3, 'name': 'Item 3'}>\n",
      "<Node element_id='73' labels=frozenset({'Item'}) properties={'id': 4, 'name': 'Item 4'}>\n",
      "\n",
      "Relationships:\n",
      "<Relationship element_id='2' nodes=(<Node element_id='63' labels=frozenset() properties={}>, <Node element_id='68' labels=frozenset() properties={}>) type='FOLLOW' properties={}>\n",
      "<Relationship element_id='11' nodes=(<Node element_id='63' labels=frozenset() properties={}>, <Node element_id='70' labels=frozenset() properties={}>) type='BUY' properties={}>\n",
      "<Relationship element_id='5' nodes=(<Node element_id='64' labels=frozenset() properties={}>, <Node element_id='69' labels=frozenset() properties={}>) type='FOLLOW' properties={}>\n",
      "<Relationship element_id='12' nodes=(<Node element_id='64' labels=frozenset() properties={}>, <Node element_id='72' labels=frozenset() properties={}>) type='BUY' properties={}>\n",
      "<Relationship element_id='3' nodes=(<Node element_id='65' labels=frozenset() properties={}>, <Node element_id='68' labels=frozenset() properties={}>) type='FOLLOW' properties={}>\n",
      "<Relationship element_id='13' nodes=(<Node element_id='65' labels=frozenset() properties={}>, <Node element_id='71' labels=frozenset() properties={}>) type='BUY' properties={}>\n",
      "<Relationship element_id='6' nodes=(<Node element_id='66' labels=frozenset() properties={}>, <Node element_id='69' labels=frozenset() properties={}>) type='FOLLOW' properties={}>\n",
      "<Relationship element_id='4' nodes=(<Node element_id='67' labels=frozenset() properties={}>, <Node element_id='68' labels=frozenset() properties={}>) type='FOLLOW' properties={}>\n",
      "<Relationship element_id='7' nodes=(<Node element_id='68' labels=frozenset() properties={}>, <Node element_id='70' labels=frozenset() properties={}>) type='SELL' properties={}>\n",
      "<Relationship element_id='8' nodes=(<Node element_id='68' labels=frozenset() properties={}>, <Node element_id='71' labels=frozenset() properties={}>) type='SELL' properties={}>\n",
      "<Relationship element_id='9' nodes=(<Node element_id='69' labels=frozenset() properties={}>, <Node element_id='72' labels=frozenset() properties={}>) type='SELL' properties={}>\n",
      "<Relationship element_id='10' nodes=(<Node element_id='69' labels=frozenset() properties={}>, <Node element_id='73' labels=frozenset() properties={}>) type='SELL' properties={}>\n"
     ]
    },
    {
     "name": "stderr",
     "output_type": "stream",
     "text": [
      "C:\\Users\\Mattis\\AppData\\Local\\Temp\\ipykernel_25772\\1529702213.py:12: DeprecationWarning: read_transaction has been renamed to execute_read\n",
      "  nodes = session.read_transaction(get_all_nodes)\n",
      "C:\\Users\\Mattis\\AppData\\Local\\Temp\\ipykernel_25772\\1529702213.py:13: DeprecationWarning: read_transaction has been renamed to execute_read\n",
      "  relationships = session.read_transaction(get_all_relationships)\n"
     ]
    }
   ],
   "source": [
    "def get_all_nodes(tx):\n",
    "    # 取得所有節點資訊\n",
    "    result = tx.run(\"MATCH (n) RETURN n LIMIT 100\")\n",
    "    return [record[\"n\"] for record in result]\n",
    "\n",
    "def get_all_relationships(tx):\n",
    "    # 取得所有邊資訊\n",
    "    result = tx.run(\"MATCH ()-[r]->() RETURN r LIMIT 100\")\n",
    "    return [record[\"r\"] for record in result]\n",
    "\n",
    "with driver.session() as session:\n",
    "    nodes = session.read_transaction(get_all_nodes)\n",
    "    relationships = session.read_transaction(get_all_relationships)\n",
    "    print(\"Nodes:\")\n",
    "    for n in nodes:\n",
    "        print(n)\n",
    "    print(\"\\nRelationships:\")\n",
    "    for r in relationships:\n",
    "        print(r)\n",
    "\n",
    "driver.close()"
   ]
  },
  {
   "cell_type": "code",
   "execution_count": 1,
   "id": "c3d10b2c",
   "metadata": {},
   "outputs": [
    {
     "name": "stdout",
     "output_type": "stream",
     "text": [
      "Note: you may need to restart the kernel to use updated packages.\n"
     ]
    },
    {
     "name": "stderr",
     "output_type": "stream",
     "text": [
      "WARNING: Skipping dgl as it is not installed.\n"
     ]
    }
   ],
   "source": [
    "pip uninstall -y dgl"
   ]
  },
  {
   "cell_type": "code",
   "execution_count": 3,
   "id": "b5bdba48",
   "metadata": {},
   "outputs": [
    {
     "name": "stdout",
     "output_type": "stream",
     "text": [
      "Looking in links: https://data.dgl.ai/wheels/cu124/repo.html\n",
      "Collecting dgl==2.0.0\n",
      "  Downloading dgl-2.0.0-cp311-cp311-win_amd64.whl (4.6 MB)\n",
      "     ---------------------------------------- 4.6/4.6 MB 4.1 MB/s eta 0:00:00\n",
      "Requirement already satisfied: numpy>=1.14.0 in c:\\users\\mattis\\desktop\\vscode\\thesis\\venv\\lib\\site-packages (from dgl==2.0.0) (2.1.2)\n",
      "Requirement already satisfied: scipy>=1.1.0 in c:\\users\\mattis\\desktop\\vscode\\thesis\\venv\\lib\\site-packages (from dgl==2.0.0) (1.15.2)\n",
      "Requirement already satisfied: networkx>=2.1 in c:\\users\\mattis\\desktop\\vscode\\thesis\\venv\\lib\\site-packages (from dgl==2.0.0) (3.3)\n",
      "Requirement already satisfied: requests>=2.19.0 in c:\\users\\mattis\\desktop\\vscode\\thesis\\venv\\lib\\site-packages (from dgl==2.0.0) (2.32.3)\n",
      "Requirement already satisfied: tqdm in c:\\users\\mattis\\desktop\\vscode\\thesis\\venv\\lib\\site-packages (from dgl==2.0.0) (4.67.1)\n",
      "Requirement already satisfied: psutil>=5.8.0 in c:\\users\\mattis\\desktop\\vscode\\thesis\\venv\\lib\\site-packages (from dgl==2.0.0) (7.0.0)\n",
      "Requirement already satisfied: torchdata>=0.5.0 in c:\\users\\mattis\\desktop\\vscode\\thesis\\venv\\lib\\site-packages (from dgl==2.0.0) (0.11.0)\n",
      "Requirement already satisfied: charset-normalizer<4,>=2 in c:\\users\\mattis\\desktop\\vscode\\thesis\\venv\\lib\\site-packages (from requests>=2.19.0->dgl==2.0.0) (3.4.1)\n",
      "Requirement already satisfied: idna<4,>=2.5 in c:\\users\\mattis\\desktop\\vscode\\thesis\\venv\\lib\\site-packages (from requests>=2.19.0->dgl==2.0.0) (3.10)\n",
      "Requirement already satisfied: urllib3<3,>=1.21.1 in c:\\users\\mattis\\desktop\\vscode\\thesis\\venv\\lib\\site-packages (from requests>=2.19.0->dgl==2.0.0) (2.4.0)\n",
      "Requirement already satisfied: certifi>=2017.4.17 in c:\\users\\mattis\\desktop\\vscode\\thesis\\venv\\lib\\site-packages (from requests>=2.19.0->dgl==2.0.0) (2025.1.31)\n",
      "Requirement already satisfied: torch>=2 in c:\\users\\mattis\\desktop\\vscode\\thesis\\venv\\lib\\site-packages (from torchdata>=0.5.0->dgl==2.0.0) (2.4.1+cu124)\n",
      "Requirement already satisfied: colorama in c:\\users\\mattis\\desktop\\vscode\\thesis\\venv\\lib\\site-packages (from tqdm->dgl==2.0.0) (0.4.6)\n",
      "Requirement already satisfied: filelock in c:\\users\\mattis\\desktop\\vscode\\thesis\\venv\\lib\\site-packages (from torch>=2->torchdata>=0.5.0->dgl==2.0.0) (3.13.1)\n",
      "Requirement already satisfied: typing-extensions>=4.8.0 in c:\\users\\mattis\\desktop\\vscode\\thesis\\venv\\lib\\site-packages (from torch>=2->torchdata>=0.5.0->dgl==2.0.0) (4.13.2)\n",
      "Requirement already satisfied: sympy in c:\\users\\mattis\\desktop\\vscode\\thesis\\venv\\lib\\site-packages (from torch>=2->torchdata>=0.5.0->dgl==2.0.0) (1.13.1)\n",
      "Requirement already satisfied: jinja2 in c:\\users\\mattis\\desktop\\vscode\\thesis\\venv\\lib\\site-packages (from torch>=2->torchdata>=0.5.0->dgl==2.0.0) (3.1.3)\n",
      "Requirement already satisfied: fsspec in c:\\users\\mattis\\desktop\\vscode\\thesis\\venv\\lib\\site-packages (from torch>=2->torchdata>=0.5.0->dgl==2.0.0) (2024.6.1)\n",
      "Requirement already satisfied: MarkupSafe>=2.0 in c:\\users\\mattis\\desktop\\vscode\\thesis\\venv\\lib\\site-packages (from jinja2->torch>=2->torchdata>=0.5.0->dgl==2.0.0) (2.1.5)\n",
      "Requirement already satisfied: mpmath<1.4,>=1.1.0 in c:\\users\\mattis\\desktop\\vscode\\thesis\\venv\\lib\\site-packages (from sympy->torch>=2->torchdata>=0.5.0->dgl==2.0.0) (1.3.0)\n",
      "Installing collected packages: dgl\n",
      "Successfully installed dgl-2.0.0\n",
      "Note: you may need to restart the kernel to use updated packages.\n"
     ]
    },
    {
     "name": "stderr",
     "output_type": "stream",
     "text": [
      "\n",
      "[notice] A new release of pip available: 22.3 -> 25.0.1\n",
      "[notice] To update, run: python.exe -m pip install --upgrade pip\n"
     ]
    }
   ],
   "source": [
    "pip install dgl==2.0.0 -f https://data.dgl.ai/wheels/cu124/repo.html"
   ]
  },
  {
   "cell_type": "code",
   "execution_count": 4,
   "id": "f0c1b7a6",
   "metadata": {},
   "outputs": [
    {
     "name": "stdout",
     "output_type": "stream",
     "text": [
      "Looking in indexes: https://download.pytorch.org/whl/cu124\n",
      "Requirement already satisfied: torch==2.4.1 in c:\\users\\mattis\\desktop\\vscode\\thesis\\venv\\lib\\site-packages (2.4.1+cu124)\n",
      "Requirement already satisfied: torchvision==0.19.1 in c:\\users\\mattis\\desktop\\vscode\\thesis\\venv\\lib\\site-packages (0.19.1+cu124)\n",
      "Requirement already satisfied: torchaudio==2.4.1 in c:\\users\\mattis\\desktop\\vscode\\thesis\\venv\\lib\\site-packages (2.4.1+cu124)\n",
      "Requirement already satisfied: filelock in c:\\users\\mattis\\desktop\\vscode\\thesis\\venv\\lib\\site-packages (from torch==2.4.1) (3.13.1)\n",
      "Requirement already satisfied: typing-extensions>=4.8.0 in c:\\users\\mattis\\desktop\\vscode\\thesis\\venv\\lib\\site-packages (from torch==2.4.1) (4.13.2)\n",
      "Requirement already satisfied: sympy in c:\\users\\mattis\\desktop\\vscode\\thesis\\venv\\lib\\site-packages (from torch==2.4.1) (1.13.1)\n",
      "Requirement already satisfied: networkx in c:\\users\\mattis\\desktop\\vscode\\thesis\\venv\\lib\\site-packages (from torch==2.4.1) (3.3)\n",
      "Requirement already satisfied: jinja2 in c:\\users\\mattis\\desktop\\vscode\\thesis\\venv\\lib\\site-packages (from torch==2.4.1) (3.1.3)\n",
      "Requirement already satisfied: fsspec in c:\\users\\mattis\\desktop\\vscode\\thesis\\venv\\lib\\site-packages (from torch==2.4.1) (2024.6.1)\n",
      "Requirement already satisfied: numpy in c:\\users\\mattis\\desktop\\vscode\\thesis\\venv\\lib\\site-packages (from torchvision==0.19.1) (2.1.2)\n",
      "Requirement already satisfied: pillow!=8.3.*,>=5.3.0 in c:\\users\\mattis\\desktop\\vscode\\thesis\\venv\\lib\\site-packages (from torchvision==0.19.1) (11.0.0)\n",
      "Requirement already satisfied: MarkupSafe>=2.0 in c:\\users\\mattis\\desktop\\vscode\\thesis\\venv\\lib\\site-packages (from jinja2->torch==2.4.1) (2.1.5)\n",
      "Requirement already satisfied: mpmath<1.4,>=1.1.0 in c:\\users\\mattis\\desktop\\vscode\\thesis\\venv\\lib\\site-packages (from sympy->torch==2.4.1) (1.3.0)\n"
     ]
    },
    {
     "name": "stderr",
     "output_type": "stream",
     "text": [
      "\n",
      "[notice] A new release of pip available: 22.3 -> 25.0.1\n",
      "[notice] To update, run: python.exe -m pip install --upgrade pip\n"
     ]
    }
   ],
   "source": [
    "!pip install torch==2.4.1 torchvision==0.19.1 torchaudio==2.4.1 --index-url https://download.pytorch.org/whl/cu124"
   ]
  },
  {
   "cell_type": "code",
   "execution_count": 5,
   "id": "13d632a5",
   "metadata": {},
   "outputs": [],
   "source": [
    "import torch\n",
    "import dgl"
   ]
  },
  {
   "cell_type": "code",
   "execution_count": 6,
   "id": "979026e6",
   "metadata": {},
   "outputs": [
    {
     "name": "stdout",
     "output_type": "stream",
     "text": [
      "Current GPU device index: 0\n",
      "GPU device name: NVIDIA GeForce RTX 3050 Laptop GPU\n"
     ]
    }
   ],
   "source": [
    "if torch.cuda.is_available():\n",
    "    # Set default device to GPU\n",
    "    device = torch.device(\"cuda\")\n",
    "    \n",
    "    # Get details about the GPU\n",
    "    print(\"Current GPU device index:\", torch.cuda.current_device())\n",
    "    print(\"GPU device name:\", torch.cuda.get_device_name(torch.cuda.current_device()))\n",
    "else:\n",
    "    device = torch.device(\"cpu\")"
   ]
  },
  {
   "cell_type": "code",
   "execution_count": 12,
   "id": "8ea6c420",
   "metadata": {},
   "outputs": [
    {
     "name": "stdout",
     "output_type": "stream",
     "text": [
      "各節點類型數量: {'User': 5, 'Streamer': 2, 'Item': 4}\n"
     ]
    }
   ],
   "source": [
    "# -----------------------------\n",
    "# Step 1: 連線到 Memgraph 並提取節點資訊\n",
    "# -----------------------------\n",
    "uri = \"bolt://localhost:7687\"\n",
    "# 如果你的 Memgraph 沒有設定用戶驗證，auth 參數填 (\"\", \"\")\n",
    "driver = GraphDatabase.driver(uri, auth=(\"\",\"\"))\n",
    "session = driver.session()\n",
    "\n",
    "# 提取所有節點，並返回它們的標籤（假設每個節點只有一個主要標籤）與 id 屬性\n",
    "node_query = \"MATCH (n) RETURN labels(n) AS labels, n.id AS id\"\n",
    "result = session.run(node_query)\n",
    "\n",
    "# 建立一個字典，按標籤（例如 \"User\", \"Streamer\", \"Item\"）存放所有原始的 id\n",
    "nodes_by_label = {}\n",
    "for record in result:\n",
    "    # 假設每個節點都有一個標籤，取第一個\n",
    "    label_list = record[\"labels\"]\n",
    "    if not label_list:  # 如果沒有標籤則跳過\n",
    "        continue\n",
    "    label = label_list[0]\n",
    "    node_id = record[\"id\"]\n",
    "    nodes_by_label.setdefault(label, set()).add(node_id)\n",
    "\n",
    "# 將每個標籤的原始 id 轉換為有序列表，並建立從原始 id 到內部索引的映射\n",
    "node_mappings = {}\n",
    "node_counts = {}\n",
    "for label, id_set in nodes_by_label.items():\n",
    "    sorted_ids = sorted(list(id_set))\n",
    "    mapping = {orig: idx for idx, orig in enumerate(sorted_ids)}\n",
    "    node_mappings[label] = mapping\n",
    "    node_counts[label] = len(sorted_ids)\n",
    "\n",
    "print(\"各節點類型數量:\", node_counts)\n",
    "# 例如可能輸出：{'User': 5, 'Streamer': 2, 'Item': 4}"
   ]
  },
  {
   "cell_type": "code",
   "execution_count": 13,
   "id": "112115ac",
   "metadata": {},
   "outputs": [
    {
     "name": "stdout",
     "output_type": "stream",
     "text": [
      "邊資訊提取結果:\n",
      "('User', 'FOLLOW', 'Streamer') -> 5 條邊\n",
      "('Streamer', 'SELL', 'Item') -> 4 條邊\n",
      "('User', 'BUY', 'Item') -> 3 條邊\n"
     ]
    }
   ],
   "source": [
    "# -----------------------------\n",
    "# Step 2: 提取邊資訊\n",
    "# -----------------------------\n",
    "# 我們這裡定義有三種關係，注意關係的方向與參與節點類型：\n",
    "#   ('User', 'FOLLOW', 'Streamer')\n",
    "#   ('Streamer', 'SELL', 'Item')\n",
    "#   ('User', 'BUY', 'Item')\n",
    "relationship_types = [\"FOLLOW\", \"SELL\", \"BUY\"]\n",
    "edges_by_type = {}  # key 格式：(src_label, rel, dst_label)\n",
    "\n",
    "for rel in relationship_types:\n",
    "    # 針對每個關係執行查詢\n",
    "    query = f\"\"\"\n",
    "        MATCH (n)-[r]->(m)\n",
    "        WHERE type(r) = '{rel}'\n",
    "        RETURN n.id AS src, m.id AS dst,\n",
    "               labels(n)[0] AS src_label, labels(m)[0] AS dst_label\n",
    "    \"\"\"\n",
    "    res = session.run(query)\n",
    "    src_list = []\n",
    "    dst_list = []\n",
    "    src_label = None\n",
    "    dst_label = None\n",
    "    for record in res:\n",
    "        src_list.append(record[\"src\"])\n",
    "        dst_list.append(record[\"dst\"])\n",
    "        src_label = record[\"src_label\"]\n",
    "        dst_label = record[\"dst_label\"]\n",
    "    if src_label is not None and dst_label is not None:\n",
    "        edges_by_type[(src_label, rel, dst_label)] = (src_list, dst_list)\n",
    "\n",
    "session.close()\n",
    "driver.close()\n",
    "\n",
    "print(\"邊資訊提取結果:\")\n",
    "for key, (src_list, dst_list) in edges_by_type.items():\n",
    "    print(key, \"->\", len(src_list), \"條邊\")"
   ]
  },
  {
   "cell_type": "code",
   "execution_count": 14,
   "id": "66598be9",
   "metadata": {},
   "outputs": [
    {
     "name": "stdout",
     "output_type": "stream",
     "text": [
      "建立 DGL 異質圖的資料字典:\n",
      "('User', 'FOLLOW', 'Streamer') -> torch.Size([5]) torch.Size([5])\n",
      "('Streamer', 'SELL', 'Item') -> torch.Size([4]) torch.Size([4])\n",
      "('User', 'BUY', 'Item') -> torch.Size([3]) torch.Size([3])\n",
      "成功建立 DGL 異質圖:\n",
      "Graph(num_nodes={'Item': 4, 'Streamer': 2, 'User': 5},\n",
      "      num_edges={('Streamer', 'SELL', 'Item'): 4, ('User', 'BUY', 'Item'): 3, ('User', 'FOLLOW', 'Streamer'): 5},\n",
      "      metagraph=[('Streamer', 'Item', 'SELL'), ('User', 'Item', 'BUY'), ('User', 'Streamer', 'FOLLOW')])\n",
      "各節點型態的數量: {'Item': 4, 'Streamer': 2, 'User': 5}\n"
     ]
    }
   ],
   "source": [
    "# -----------------------------\n",
    "# Step 3: 利用映射轉換邊資料，組成 DGL 所需格式\n",
    "# -----------------------------\n",
    "dgl_data_dict = {}\n",
    "for (src_label, rel, dst_label), (src_list, dst_list) in edges_by_type.items():\n",
    "    # 將原始 id 轉成映射後的索引\n",
    "    mapped_src = [node_mappings[src_label][x] for x in src_list]\n",
    "    mapped_dst = [node_mappings[dst_label][x] for x in dst_list]\n",
    "    dgl_data_dict[(src_label, rel, dst_label)] = (\n",
    "        torch.tensor(mapped_src, dtype=torch.int64),\n",
    "        torch.tensor(mapped_dst, dtype=torch.int64)\n",
    "    )\n",
    "\n",
    "print(\"建立 DGL 異質圖的資料字典:\")\n",
    "for key, value in dgl_data_dict.items():\n",
    "    print(key, \"->\", value[0].shape, value[1].shape)\n",
    "\n",
    "# -----------------------------\n",
    "# Step 4: 建構 DGL 異質圖\n",
    "# -----------------------------\n",
    "graph = dgl.heterograph(dgl_data_dict, num_nodes_dict=node_counts)\n",
    "print(\"成功建立 DGL 異質圖:\")\n",
    "print(graph)\n",
    "print(\"各節點型態的數量:\", {ntype: graph.num_nodes(ntype) for ntype in graph.ntypes})\n",
    "\n",
    "# 現在 graph 就包含了從 Memgraph 擷取出來的圖結構，\n",
    "# 你可以用來訓練 GNN 模型，例如用 HeteroGraphConv 進行鏈接預測、節點分類等任務。"
   ]
  },
  {
   "cell_type": "code",
   "execution_count": 16,
   "id": "5f625f4f",
   "metadata": {},
   "outputs": [
    {
     "name": "stdout",
     "output_type": "stream",
     "text": [
      "Collecting matplotlib\n",
      "  Downloading matplotlib-3.10.1-cp311-cp311-win_amd64.whl (8.1 MB)\n",
      "     ---------------------------------------- 8.1/8.1 MB 4.3 MB/s eta 0:00:00\n",
      "Collecting contourpy>=1.0.1\n",
      "  Using cached contourpy-1.3.1-cp311-cp311-win_amd64.whl (219 kB)\n",
      "Collecting cycler>=0.10\n",
      "  Using cached cycler-0.12.1-py3-none-any.whl (8.3 kB)\n",
      "Collecting fonttools>=4.22.0\n",
      "  Downloading fonttools-4.57.0-cp311-cp311-win_amd64.whl (2.2 MB)\n",
      "     ---------------------------------------- 2.2/2.2 MB 10.8 MB/s eta 0:00:00\n",
      "Collecting kiwisolver>=1.3.1\n",
      "  Downloading kiwisolver-1.4.8-cp311-cp311-win_amd64.whl (71 kB)\n",
      "     ---------------------------------------- 72.0/72.0 kB 3.9 MB/s eta 0:00:00\n",
      "Requirement already satisfied: numpy>=1.23 in c:\\users\\mattis\\desktop\\vscode\\thesis\\venv\\lib\\site-packages (from matplotlib) (2.1.2)\n",
      "Requirement already satisfied: packaging>=20.0 in c:\\users\\mattis\\desktop\\vscode\\thesis\\venv\\lib\\site-packages (from matplotlib) (24.2)\n",
      "Requirement already satisfied: pillow>=8 in c:\\users\\mattis\\desktop\\vscode\\thesis\\venv\\lib\\site-packages (from matplotlib) (11.0.0)\n",
      "Collecting pyparsing>=2.3.1\n",
      "  Downloading pyparsing-3.2.3-py3-none-any.whl (111 kB)\n",
      "     -------------------------------------- 111.1/111.1 kB 6.7 MB/s eta 0:00:00\n",
      "Requirement already satisfied: python-dateutil>=2.7 in c:\\users\\mattis\\desktop\\vscode\\thesis\\venv\\lib\\site-packages (from matplotlib) (2.9.0.post0)\n",
      "Requirement already satisfied: six>=1.5 in c:\\users\\mattis\\desktop\\vscode\\thesis\\venv\\lib\\site-packages (from python-dateutil>=2.7->matplotlib) (1.17.0)\n",
      "Installing collected packages: pyparsing, kiwisolver, fonttools, cycler, contourpy, matplotlib\n",
      "Successfully installed contourpy-1.3.1 cycler-0.12.1 fonttools-4.57.0 kiwisolver-1.4.8 matplotlib-3.10.1 pyparsing-3.2.3\n",
      "Note: you may need to restart the kernel to use updated packages.\n"
     ]
    },
    {
     "name": "stderr",
     "output_type": "stream",
     "text": [
      "\n",
      "[notice] A new release of pip available: 22.3 -> 25.0.1\n",
      "[notice] To update, run: python.exe -m pip install --upgrade pip\n"
     ]
    }
   ],
   "source": [
    "pip install matplotlib"
   ]
  },
  {
   "cell_type": "code",
   "execution_count": 17,
   "id": "dff508d0",
   "metadata": {},
   "outputs": [
    {
     "name": "stdout",
     "output_type": "stream",
     "text": [
      "Requirement already satisfied: networkx in c:\\users\\mattis\\desktop\\vscode\\thesis\\venv\\lib\\site-packages (3.3)\n",
      "Note: you may need to restart the kernel to use updated packages.\n"
     ]
    },
    {
     "name": "stderr",
     "output_type": "stream",
     "text": [
      "\n",
      "[notice] A new release of pip available: 22.3 -> 25.0.1\n",
      "[notice] To update, run: python.exe -m pip install --upgrade pip\n"
     ]
    }
   ],
   "source": [
    "pip install networkx"
   ]
  },
  {
   "cell_type": "code",
   "execution_count": 20,
   "id": "2259b013",
   "metadata": {},
   "outputs": [
    {
     "data": {
      "image/png": "[encoded data removed]",
      "text/plain": [
       "<Figure size 1400x1000 with 1 Axes>"
      ]
     },
     "metadata": {},
     "output_type": "display_data"
    },
    {
     "name": "stdout",
     "output_type": "stream",
     "text": [
      "詳細邊關係:\n",
      "U0 -[FOLLOW]-> S0\n",
      "U0 -[BUY]-> I0\n",
      "U1 -[FOLLOW]-> S0\n",
      "U1 -[BUY]-> I2\n",
      "U2 -[FOLLOW]-> S0\n",
      "U2 -[BUY]-> I1\n",
      "U3 -[FOLLOW]-> S1\n",
      "U4 -[FOLLOW]-> S0\n",
      "S0 -[SELL]-> I0\n",
      "S0 -[SELL]-> I1\n",
      "S1 -[SELL]-> I2\n",
      "S1 -[SELL]-> I3\n"
     ]
    },
    {
     "ename": "NameError",
     "evalue": "name 'np' is not defined",
     "output_type": "error",
     "traceback": [
      "\u001b[31m---------------------------------------------------------------------------\u001b[39m",
      "\u001b[31mNameError\u001b[39m                                 Traceback (most recent call last)",
      "\u001b[36mCell\u001b[39m\u001b[36m \u001b[39m\u001b[32mIn[20]\u001b[39m\u001b[32m, line 175\u001b[39m\n\u001b[32m    173\u001b[39m \u001b[38;5;66;03m# 執行視覺化\u001b[39;00m\n\u001b[32m    174\u001b[39m visualize_heterograph()\n\u001b[32m--> \u001b[39m\u001b[32m175\u001b[39m \u001b[43mplot_relation_matrices\u001b[49m\u001b[43m(\u001b[49m\u001b[43m)\u001b[49m\n",
      "\u001b[36mCell\u001b[39m\u001b[36m \u001b[39m\u001b[32mIn[20]\u001b[39m\u001b[32m, line 118\u001b[39m, in \u001b[36mplot_relation_matrices\u001b[39m\u001b[34m()\u001b[39m\n\u001b[32m    116\u001b[39m \u001b[38;5;28;01mdef\u001b[39;00m\u001b[38;5;250m \u001b[39m\u001b[34mplot_relation_matrices\u001b[39m():\n\u001b[32m    117\u001b[39m     \u001b[38;5;66;03m# User-Streamer 關係矩陣 (FOLLOW)\u001b[39;00m\n\u001b[32m--> \u001b[39m\u001b[32m118\u001b[39m     user_streamer_matrix = \u001b[43mnp\u001b[49m.zeros((num_users, num_streamers))\n\u001b[32m    119\u001b[39m     \u001b[38;5;28;01mfor\u001b[39;00m u, s \u001b[38;5;129;01min\u001b[39;00m \u001b[38;5;28mzip\u001b[39m(follow_user.tolist(), follow_streamer.tolist()):\n\u001b[32m    120\u001b[39m         user_streamer_matrix[u, s] = \u001b[32m1\u001b[39m\n",
      "\u001b[31mNameError\u001b[39m: name 'np' is not defined"
     ]
    }
   ],
   "source": [
    "# -----------------------------\n",
    "# 基本資料（從 Memgraph 提取並轉換後得到的資料）\n",
    "# -----------------------------\n",
    "num_users = 5      # User 數量\n",
    "num_streamers = 2  # Streamer 數量\n",
    "num_items = 4      # Item 數量\n",
    "\n",
    "# (User, FOLLOW, Streamer) 邊：5 條邊\n",
    "follow_user = torch.tensor([0, 1, 2, 3, 4], dtype=torch.int64)\n",
    "follow_streamer = torch.tensor([0, 0, 0, 1, 0], dtype=torch.int64)\n",
    "\n",
    "# (Streamer, SELL, Item) 邊：4 條邊\n",
    "sell_streamer = torch.tensor([0, 0, 1, 1], dtype=torch.int64)\n",
    "sell_item = torch.tensor([0, 1, 2, 3], dtype=torch.int64)\n",
    "\n",
    "# (User, BUY, Item) 邊：3 條邊\n",
    "buy_users = [0, 1, 2]    # 已經映射後的 User 索引 (0~4)\n",
    "buy_items = [0, 2, 1]    # 已經映射後的 Item 索引 (0~3)\n",
    "\n",
    "# -----------------------------\n",
    "# 方法一：根據上述數據利用 NetworkX 繪製異質圖\n",
    "# -----------------------------\n",
    "def visualize_heterograph():\n",
    "    # 建立 NetworkX 有向圖\n",
    "    G = nx.DiGraph()\n",
    "    \n",
    "    # 添加節點：以 \"U{i}\" 表示 User、\"S{i}\" 表示 Streamer、\"I{i}\" 表示 Item\n",
    "    for i in range(num_users):\n",
    "        G.add_node(f\"U{i}\", type=\"User\")\n",
    "    for i in range(num_streamers):\n",
    "        G.add_node(f\"S{i}\", type=\"Streamer\")\n",
    "    for i in range(num_items):\n",
    "        G.add_node(f\"I{i}\", type=\"Item\")\n",
    "    \n",
    "    # 添加 FOLLOW 邊：User -> Streamer\n",
    "    for u, s in zip(follow_user.tolist(), follow_streamer.tolist()):\n",
    "        G.add_edge(f\"U{u}\", f\"S{s}\", type=\"FOLLOW\")\n",
    "    \n",
    "    # 添加 SELL 邊：Streamer -> Item\n",
    "    for s, i in zip(sell_streamer.tolist(), sell_item.tolist()):\n",
    "        G.add_edge(f\"S{s}\", f\"I{i}\", type=\"SELL\")\n",
    "    \n",
    "    # 添加 BUY 邊：User -> Item\n",
    "    for u, i in zip(buy_users, buy_items):\n",
    "        G.add_edge(f\"U{u}\", f\"I{i}\", type=\"BUY\")\n",
    "    \n",
    "    # 設定節點顏色與大小\n",
    "    node_colors = []\n",
    "    node_sizes = []\n",
    "    for node in G.nodes():\n",
    "        if node.startswith(\"U\"):\n",
    "            node_colors.append(\"skyblue\")\n",
    "            node_sizes.append(700)\n",
    "        elif node.startswith(\"S\"):\n",
    "            node_colors.append(\"salmon\")\n",
    "            node_sizes.append(900)\n",
    "        elif node.startswith(\"I\"):\n",
    "            node_colors.append(\"lightgreen\")\n",
    "            node_sizes.append(800)\n",
    "        else:\n",
    "            node_colors.append(\"gray\")\n",
    "            node_sizes.append(600)\n",
    "    \n",
    "    # 利用 Spring layout 計算節點位置，並手動調整 User 與 Item 的垂直位置\n",
    "    pos = nx.spring_layout(G, k=0.5, iterations=100, seed=42)\n",
    "    for node in G.nodes():\n",
    "        if node.startswith(\"U\"):\n",
    "            pos[node][1] += 0.3\n",
    "        elif node.startswith(\"I\"):\n",
    "            pos[node][1] -= 0.3\n",
    "    \n",
    "    # 繪製節點\n",
    "    plt.figure(figsize=(14, 10))\n",
    "    nx.draw_networkx_nodes(G, pos, node_color=node_colors, node_size=node_sizes, alpha=0.9)\n",
    "    \n",
    "    # 分離不同類型的邊\n",
    "    follow_edges = [(u, v) for u, v, d in G.edges(data=True) if d[\"type\"] == \"FOLLOW\"]\n",
    "    sell_edges = [(u, v) for u, v, d in G.edges(data=True) if d[\"type\"] == \"SELL\"]\n",
    "    buy_edges = [(u, v) for u, v, d in G.edges(data=True) if d[\"type\"] == \"BUY\"]\n",
    "    \n",
    "    # 分別繪製各類邊\n",
    "    nx.draw_networkx_edges(G, pos, edgelist=follow_edges, edge_color=\"blue\", arrows=True, arrowsize=20, width=2)\n",
    "    nx.draw_networkx_edges(G, pos, edgelist=sell_edges, edge_color=\"red\", arrows=True, arrowsize=20, width=2)\n",
    "    nx.draw_networkx_edges(G, pos, edgelist=buy_edges, edge_color=\"green\", arrows=True, arrowsize=20, width=2)\n",
    "    \n",
    "    # 繪製標籤\n",
    "    labels = {node: node for node in G.nodes()}\n",
    "    nx.draw_networkx_labels(G, pos, labels=labels, font_size=14, font_weight=\"bold\")\n",
    "    \n",
    "    # 添加圖例\n",
    "    user_patch = plt.Line2D([0], [0], marker=\"o\", color=\"w\", markerfacecolor=\"skyblue\",\n",
    "                              markersize=15, label=\"User (U)\")\n",
    "    streamer_patch = plt.Line2D([0], [0], marker=\"o\", color=\"w\", markerfacecolor=\"salmon\",\n",
    "                                  markersize=15, label=\"Streamer (S)\")\n",
    "    item_patch = plt.Line2D([0], [0], marker=\"o\", color=\"w\", markerfacecolor=\"lightgreen\",\n",
    "                              markersize=15, label=\"Item (I)\")\n",
    "    follow_line = plt.Line2D([0], [0], color=\"blue\", lw=2, label=\"FOLLOW\")\n",
    "    sell_line = plt.Line2D([0], [0], color=\"red\", lw=2, label=\"SELL\")\n",
    "    buy_line = plt.Line2D([0], [0], color=\"green\", lw=2, label=\"BUY\")\n",
    "    \n",
    "    plt.legend(handles=[user_patch, streamer_patch, item_patch, follow_line, sell_line, buy_line],\n",
    "               loc=\"upper right\", fontsize=12)\n",
    "    \n",
    "    plt.title(\"Heterogeneous Graph Visualization\", fontsize=16)\n",
    "    plt.axis(\"off\")\n",
    "    plt.tight_layout()\n",
    "    plt.show()\n",
    "    \n",
    "    # 列印所有邊關係（方便確認）\n",
    "    print(\"詳細邊關係:\")\n",
    "    for u, v, d in G.edges(data=True):\n",
    "        print(f\"{u} -[{d['type']}]-> {v}\")\n",
    "\n",
    "# -----------------------------\n",
    "# 方法二：繪製關係矩陣視覺化\n",
    "def plot_relation_matrices():\n",
    "    # User-Streamer 關係矩陣 (FOLLOW)\n",
    "    user_streamer_matrix = np.zeros((num_users, num_streamers))\n",
    "    for u, s in zip(follow_user.tolist(), follow_streamer.tolist()):\n",
    "        user_streamer_matrix[u, s] = 1\n",
    "    \n",
    "    # Streamer-Item 關係矩陣 (SELL)\n",
    "    streamer_item_matrix = np.zeros((num_streamers, num_items))\n",
    "    for s, i in zip(sell_streamer.tolist(), sell_item.tolist()):\n",
    "        streamer_item_matrix[s, i] = 1\n",
    "\n",
    "    # User-Item 關係矩陣 (BUY)\n",
    "    user_item_matrix = np.zeros((num_users, num_items))\n",
    "    for u, i in zip(buy_users, buy_items):\n",
    "        user_item_matrix[u, i] = 1\n",
    "\n",
    "    fig, axes = plt.subplots(1, 3, figsize=(18, 5))\n",
    "    \n",
    "    # 畫 User-Streamer (FOLLOW) 矩陣\n",
    "    axes[0].imshow(user_streamer_matrix, cmap=\"Blues\")\n",
    "    axes[0].set_title(\"User-Streamer (FOLLOW)\", fontsize=14)\n",
    "    axes[0].set_xlabel(\"Streamer ID\", fontsize=12)\n",
    "    axes[0].set_ylabel(\"User ID\", fontsize=12)\n",
    "    for i in range(num_users):\n",
    "        for j in range(num_streamers):\n",
    "            if user_streamer_matrix[i, j] == 1:\n",
    "                axes[0].text(j, i, \"1\", ha=\"center\", va=\"center\", color=\"black\")\n",
    "    axes[0].set_xticks(np.arange(num_streamers))\n",
    "    axes[0].set_yticks(np.arange(num_users))\n",
    "    \n",
    "    # 畫 Streamer-Item (SELL) 矩陣\n",
    "    axes[1].imshow(streamer_item_matrix, cmap=\"Reds\")\n",
    "    axes[1].set_title(\"Streamer-Item (SELL)\", fontsize=14)\n",
    "    axes[1].set_xlabel(\"Item ID\", fontsize=12)\n",
    "    axes[1].set_ylabel(\"Streamer ID\", fontsize=12)\n",
    "    for i in range(num_streamers):\n",
    "        for j in range(num_items):\n",
    "            if streamer_item_matrix[i, j] == 1:\n",
    "                axes[1].text(j, i, \"1\", ha=\"center\", va=\"center\", color=\"black\")\n",
    "    axes[1].set_xticks(np.arange(num_items))\n",
    "    axes[1].set_yticks(np.arange(num_streamers))\n",
    "    \n",
    "    # 畫 User-Item (BUY) 矩陣\n",
    "    axes[2].imshow(user_item_matrix, cmap=\"Greens\")\n",
    "    axes[2].set_title(\"User-Item (BUY)\", fontsize=14)\n",
    "    axes[2].set_xlabel(\"Item ID\", fontsize=12)\n",
    "    axes[2].set_ylabel(\"User ID\", fontsize=12)\n",
    "    for i in range(num_users):\n",
    "        for j in range(num_items):\n",
    "            if user_item_matrix[i, j] == 1:\n",
    "                axes[2].text(j, i, \"1\", ha=\"center\", va=\"center\", color=\"black\")\n",
    "    axes[2].set_xticks(np.arange(num_items))\n",
    "    axes[2].set_yticks(np.arange(num_users))\n",
    "    \n",
    "    plt.tight_layout()\n",
    "    plt.show()\n",
    "\n",
    "# 執行視覺化\n",
    "visualize_heterograph()\n",
    "plot_relation_matrices()\n"
   ]
  },
  {
   "cell_type": "code",
   "execution_count": null,
   "id": "7b5ed6ce",
   "metadata": {},
   "outputs": [],
   "source": []
  }
 ],
 "metadata": {
  "kernelspec": {
   "display_name": "venv",
   "language": "python",
   "name": "python3"
  },
  "language_info": {
   "codemirror_mode": {
    "name": "ipython",
    "version": 3
   },
   "file_extension": ".py",
   "mimetype": "text/x-python",
   "name": "python",
   "nbconvert_exporter": "python",
   "pygments_lexer": "ipython3",
   "version": "3.11.0"
  }
 },
 "nbformat": 4,
 "nbformat_minor": 5
}
